{
 "cells": [
  {
   "cell_type": "code",
   "execution_count": 3,
   "metadata": {},
   "outputs": [],
   "source": [
    "import numpy as np\n",
    "# from scipy.special import binom\n",
    "from scipy.special import genlaguerre\n",
    "# from scipy.special import hyp1f1\n",
    "import matplotlib.pyplot as plt\n",
    "# x = np.arange(-1.0, 1.0, 0.01)\n",
    "# np.allclose(genlaguerre(3, 3)(x), binom(6, 3) * hyp1f1(-3, 4, x))\n",
    "import math\n",
    "\n",
    "pi=math.pi\n",
    "sign = lambda x: math.copysign(1, x) # two will work\n",
    "\n",
    "def w_n_n(x, p, w, n):\n",
    "    return (1/pi)*((-1)**(n))*np.exp(-0.5*(w**2 + p**2/w))*genlaguerre(n,0)(2*p**2/w + 2*w*x**2)\n",
    "\n",
    "# def w_nm1_nm1(x,n):\n",
    "#     if n == 0:\n",
    "#         return  0\n",
    "#     else:\n",
    "#         return (1/pi)*((-1)**(n-1))*np.exp(-0.5*abs(x)**2)*genlaguerre(n-1,0)(abs(x)*abs(x)) \n",
    "\n",
    "# def w_nm1_n(x,n):\n",
    "#     if n == 0:\n",
    "#         return 0\n",
    "#     else:\n",
    "#         return (1/(pi*np.sqrt(n)))*((-1)**(n-1))*x*np.exp(-0.5*abs(x)**2)*genlaguerre(n-1,1)(abs(x)*abs(x))    \n",
    "\n",
    "\n",
    "# def WDF(x, n, delta, lbda, beta):\n",
    "#     return   (1/2**(1-delta))*(w_n_n(x, n) + w_nm1_nm1(x,n) - 2*lbda*beta*np.real(w_nm1_n(x,n)))    \n",
    "\n",
    "def constA(n, epsilon, deltaS):\n",
    "    sign(n)*sqrt(abs(epsilon)+sign(n)*deltaS)/sqrt(2*abs(epsilon))\n",
    "\n",
    "def constB(n, epsilon, deltaS):\n",
    "    sign(n)*sqrt(abs(epsilon)-sign(n)*deltaS)/sqrt(2*abs(epsilon))\n",
    "\n"
   ]
  },
  {
   "cell_type": "code",
   "execution_count": null,
   "metadata": {},
   "outputs": [],
   "source": [
    "n = 1\n",
    "ksi = 1\n",
    "h = 1\n",
    "e = 1\n",
    "\n",
    "w = vF*sqrt(2*e*B/h)\n",
    "\n",
    "if n==0:\n",
    "    A = (1-ksi)/2\n",
    "    B = (1+ksi)/2\n",
    "    epsilon = -ksi*deltaS\n",
    "else:\n",
    "    epsilon = sign(n)*sqrt(abs(n)*w**2 + deltaS**2)\n",
    "    A = constA(n,epsilon,deltaS)\n",
    "    B = constB(n,epsilon,deltaS)\n",
    "\n",
    "n_p = abs(n) - (1+ksi)/2\n",
    "n_m = abs(n) - (1-ksi)/2"
   ]
  }
 ],
 "metadata": {
  "kernelspec": {
   "display_name": "symState",
   "language": "python",
   "name": "python3"
  },
  "language_info": {
   "codemirror_mode": {
    "name": "ipython",
    "version": 3
   },
   "file_extension": ".py",
   "mimetype": "text/x-python",
   "name": "python",
   "nbconvert_exporter": "python",
   "pygments_lexer": "ipython3",
   "version": "3.9.16"
  }
 },
 "nbformat": 4,
 "nbformat_minor": 2
}
